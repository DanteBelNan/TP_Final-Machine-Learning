{
 "cells": [
  {
   "cell_type": "code",
   "execution_count": 6,
   "id": "f72d2c55",
   "metadata": {},
   "outputs": [],
   "source": [
    "from sklearn.datasets import load_wine\n",
    "from sklearn.model_selection import train_test_split\n",
    "from sklearn.preprocessing import StandardScaler, MinMaxScaler\n",
    "\n",
    "wine = load_wine()"
   ]
  },
  {
   "cell_type": "code",
   "execution_count": 9,
   "id": "2eb4e8c3",
   "metadata": {},
   "outputs": [],
   "source": [
    "X = wine.data\n",
    "X_norm = StandardScaler().fit_transform(wine.data)"
   ]
  },
  {
   "cell_type": "code",
   "execution_count": 11,
   "id": "e7224170",
   "metadata": {},
   "outputs": [],
   "source": [
    "#Cargo la siguiente data, en xTrain,le cargo el 80% de los datos de X(wine.data) a xTrain, y el 20% restante, a xTest\n",
    "#Tambien, porcentualmente de la misma manera, asigno sus etiquetas o targets a yTrain e yTest\n",
    "xTrain,xTest,yTrain,yTest = train_test_split(X,wine.target,test_size=0.2,random_state=5)\n",
    "#Luego, ejecuto el mismo procedimiento con la data normalizada\n",
    "xTrainNorm,xTestNorm,yTrainNorm,yTestNorm = train_test_split(X_norm, wine.target,test_size=0.2,random_state=5)\n",
    "\n",
    "#Aclaro, el random_state se encarga de hacer un \"shuffle\" de los datos, que se mezclan segun su valor, por lo que, para que\n",
    "#tanto la data normalizada como la normal sean iguales, su valor en random_state debe de ser la mismag\n",
    "asdasd"
   ]
  },
  {
   "cell_type": "code",
   "execution_count": null,
   "id": "fe28a1b4",
   "metadata": {},
   "outputs": [],
   "source": []
  }
 ],
 "metadata": {
  "kernelspec": {
   "display_name": "Python 3 (ipykernel)",
   "language": "python",
   "name": "python3"
  },
  "language_info": {
   "codemirror_mode": {
    "name": "ipython",
    "version": 3
   },
   "file_extension": ".py",
   "mimetype": "text/x-python",
   "name": "python",
   "nbconvert_exporter": "python",
   "pygments_lexer": "ipython3",
   "version": "3.10.9"
  }
 },
 "nbformat": 4,
 "nbformat_minor": 5
}
